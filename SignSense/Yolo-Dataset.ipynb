{
 "cells": [
  {
   "cell_type": "code",
   "execution_count": 21,
   "metadata": {},
   "outputs": [
    {
     "name": "stdout",
     "output_type": "stream",
     "text": [
      "Collecting scikit-learn\n",
      "  Downloading scikit_learn-1.6.1-cp311-cp311-win_amd64.whl.metadata (15 kB)\n",
      "Requirement already satisfied: numpy>=1.19.5 in c:\\users\\goush\\desktop\\programming\\django\\signsense\\tensor\\lib\\site-packages (from scikit-learn) (2.1.1)\n",
      "Requirement already satisfied: scipy>=1.6.0 in c:\\users\\goush\\desktop\\programming\\django\\signsense\\tensor\\lib\\site-packages (from scikit-learn) (1.15.1)\n",
      "Collecting joblib>=1.2.0 (from scikit-learn)\n",
      "  Downloading joblib-1.4.2-py3-none-any.whl.metadata (5.4 kB)\n",
      "Collecting threadpoolctl>=3.1.0 (from scikit-learn)\n",
      "  Downloading threadpoolctl-3.5.0-py3-none-any.whl.metadata (13 kB)\n",
      "Downloading scikit_learn-1.6.1-cp311-cp311-win_amd64.whl (11.1 MB)\n",
      "   ---------------------------------------- 0.0/11.1 MB ? eta -:--:--\n",
      "   --- ------------------------------------ 1.0/11.1 MB 6.3 MB/s eta 0:00:02\n",
      "   ------ --------------------------------- 1.8/11.1 MB 4.8 MB/s eta 0:00:02\n",
      "   --------- ------------------------------ 2.6/11.1 MB 4.4 MB/s eta 0:00:02\n",
      "   ------------- -------------------------- 3.7/11.1 MB 4.3 MB/s eta 0:00:02\n",
      "   ---------------- ----------------------- 4.5/11.1 MB 4.2 MB/s eta 0:00:02\n",
      "   ------------------ --------------------- 5.2/11.1 MB 4.1 MB/s eta 0:00:02\n",
      "   --------------------- ------------------ 6.0/11.1 MB 4.1 MB/s eta 0:00:02\n",
      "   ------------------------ --------------- 6.8/11.1 MB 4.1 MB/s eta 0:00:02\n",
      "   --------------------------- ------------ 7.6/11.1 MB 4.0 MB/s eta 0:00:01\n",
      "   ------------------------------- -------- 8.7/11.1 MB 4.0 MB/s eta 0:00:01\n",
      "   --------------------------------- ------ 9.4/11.1 MB 4.0 MB/s eta 0:00:01\n",
      "   ------------------------------------ --- 10.2/11.1 MB 4.0 MB/s eta 0:00:01\n",
      "   ---------------------------------------  11.0/11.1 MB 4.0 MB/s eta 0:00:01\n",
      "   ---------------------------------------- 11.1/11.1 MB 4.0 MB/s eta 0:00:00\n",
      "Downloading joblib-1.4.2-py3-none-any.whl (301 kB)\n",
      "Downloading threadpoolctl-3.5.0-py3-none-any.whl (18 kB)\n",
      "Installing collected packages: threadpoolctl, joblib, scikit-learn\n",
      "Successfully installed joblib-1.4.2 scikit-learn-1.6.1 threadpoolctl-3.5.0\n"
     ]
    }
   ],
   "source": [
    "!pip install scikit-learn"
   ]
  },
  {
   "cell_type": "code",
   "execution_count": 22,
   "metadata": {},
   "outputs": [
    {
     "name": "stdout",
     "output_type": "stream",
     "text": [
      "✅ Dataset successfully prepared for YOLOv5 training!\n"
     ]
    }
   ],
   "source": [
    "import os\n",
    "import pandas as pd\n",
    "import shutil\n",
    "from sklearn.model_selection import train_test_split\n",
    "\n",
    "# Load train.csv\n",
    "df = pd.read_csv(\"Train.csv\")\n",
    "\n",
    "# Define paths for the new dataset structure\n",
    "dataset_path = \"datasets/GTSRB\"\n",
    "images_path = os.path.join(dataset_path, \"images\")\n",
    "labels_path = os.path.join(dataset_path, \"labels\")\n",
    "\n",
    "train_images_path = os.path.join(images_path, \"train\")\n",
    "val_images_path = os.path.join(images_path, \"val\")\n",
    "train_labels_path = os.path.join(labels_path, \"train\")\n",
    "val_labels_path = os.path.join(labels_path, \"val\")\n",
    "\n",
    "# Create required directories\n",
    "for path in [train_images_path, val_images_path, train_labels_path, val_labels_path]:\n",
    "    os.makedirs(path, exist_ok=True)\n",
    "\n",
    "# Convert CSV annotations to YOLO format\n",
    "def convert_to_yolo(row):\n",
    "    img_width, img_height = row[\"Width\"], row[\"Height\"]\n",
    "    x1, y1, x2, y2 = row[\"Roi.X1\"], row[\"Roi.Y1\"], row[\"Roi.X2\"], row[\"Roi.Y2\"]\n",
    "    class_id = row[\"ClassId\"]\n",
    "\n",
    "    # Convert to YOLO format\n",
    "    x_center = (x1 + x2) / 2 / img_width\n",
    "    y_center = (y1 + y2) / 2 / img_height\n",
    "    width = (x2 - x1) / img_width\n",
    "    height = (y2 - y1) / img_height\n",
    "\n",
    "    return f\"{class_id} {x_center:.3f} {y_center:.3f} {width:.3f} {height:.3f}\"\n",
    "\n",
    "# Split dataset into 80% train and 20% validation\n",
    "train_df, val_df = train_test_split(df, test_size=0.2, random_state=42)\n",
    "\n",
    "# Function to process images and labels\n",
    "def process_data(data, img_dest, label_dest):\n",
    "    for _, row in data.iterrows():\n",
    "        img_path = row[\"Path\"]\n",
    "        yolo_annotation = convert_to_yolo(row)\n",
    "\n",
    "        # Copy image to new directory\n",
    "        img_name = os.path.basename(img_path)\n",
    "        new_img_path = os.path.join(img_dest, img_name)\n",
    "        shutil.copy(img_path, new_img_path)\n",
    "\n",
    "        # Create label file\n",
    "        label_name = img_name.replace(\".png\", \".txt\")\n",
    "        new_label_path = os.path.join(label_dest, label_name)\n",
    "        with open(new_label_path, \"w\") as f:\n",
    "            f.write(yolo_annotation)\n",
    "\n",
    "# Process training and validation datasets\n",
    "process_data(train_df, train_images_path, train_labels_path)\n",
    "process_data(val_df, val_images_path, val_labels_path)\n",
    "\n",
    "print(\"✅ Dataset successfully prepared for YOLOv5 training!\")\n"
   ]
  },
  {
   "cell_type": "code",
   "execution_count": 24,
   "metadata": {},
   "outputs": [
    {
     "name": "stdout",
     "output_type": "stream",
     "text": [
      "c:\\Users\\goush\\Desktop\\Programming\\Django\\SignSense\n"
     ]
    }
   ],
   "source": [
    "os.chdir(\"../..\")\n",
    "print(os.getcwd())"
   ]
  }
 ],
 "metadata": {
  "kernelspec": {
   "display_name": "tensor",
   "language": "python",
   "name": "python3"
  },
  "language_info": {
   "codemirror_mode": {
    "name": "ipython",
    "version": 3
   },
   "file_extension": ".py",
   "mimetype": "text/x-python",
   "name": "python",
   "nbconvert_exporter": "python",
   "pygments_lexer": "ipython3",
   "version": "3.11.9"
  }
 },
 "nbformat": 4,
 "nbformat_minor": 2
}
